{
 "cells": [
  {
   "cell_type": "code",
   "execution_count": 28,
   "id": "2ef92226-8fa9-4159-b15a-d285d088bf96",
   "metadata": {},
   "outputs": [
    {
     "name": "stdout",
     "output_type": "stream",
     "text": [
      "test 1 a= 12 b= 8 c= 7\n",
      "-50\n",
      "test 2 a= 4 b= 6 c= 9\n",
      "-25\n",
      "test 3 a= 20 b= 14 c= 17\n",
      "-103\n",
      "a=5, b=15, c=10 reslut：\n",
      "None\n"
     ]
    }
   ],
   "source": [
    "#1. Flowchart\n",
    "import random\n",
    "\n",
    "def Print_values(a, b, c):\n",
    "    if a > b:\n",
    "        if b > c:\n",
    "            print(a + b - 10 * c)\n",
    "        else:\n",
    "            if a > c:\n",
    "                print(a + c - 10 * b)\n",
    "            else:\n",
    "                print(c + a - 10 * b)\n",
    "    else:\n",
    "        if b > c:\n",
    "            print(\"None\")\n",
    "        else:\n",
    "            print(c + b - 10 * a)\n",
    "\n",
    "for i in range(3):\n",
    "    a = random.randint(1, 20)\n",
    "    b = random.randint(1, 20)\n",
    "    c = random.randint(1, 20)\n",
    "    print(\"test\", i+1, \"a=\", a, \"b=\", b, \"c=\", c)\n",
    "    Print_values(a, b, c)\n",
    "\n",
    "print(\"a=5, b=15, c=10 reslut：\")\n",
    "Print_values(5, 15, 10)"
   ]
  },
  {
   "cell_type": "code",
   "execution_count": 10,
   "id": "9a8cce9b-84c4-4578-91a2-26f6001205d8",
   "metadata": {},
   "outputs": [
    {
     "name": "stdout",
     "output_type": "stream",
     "text": [
      "1 1\n",
      "2 5\n",
      "3 7\n",
      "4 13\n",
      "5 15\n",
      "6 17\n",
      "7 21\n",
      "8 23\n",
      "9 25\n",
      "10 33\n"
     ]
    }
   ],
   "source": [
    "import math\n",
    "\n",
    "def F(x):\n",
    "    if x == 1:\n",
    "        return 1\n",
    "    next_x = math.ceil(x / 3)\n",
    "    #递归\n",
    "    return F(next_x) + 2 * x\n",
    "\n",
    "numbers = [1, 2, 3, 4, 5, 6, 7, 8, 9, 10]\n",
    "for x in numbers:\n",
    "    result = F(x)\n",
    "    print(x, result)"
   ]
  },
  {
   "cell_type": "code",
   "execution_count": 30,
   "id": "9f324b15-cfa6-46bb-8c1f-d35797cf3a47",
   "metadata": {},
   "outputs": [
    {
     "name": "stdout",
     "output_type": "stream",
     "text": [
      "总和10的方法数: 1\n",
      "总和15的方法数: 2002\n",
      "总和30的方法数: 2930455\n",
      "总和45的方法数: 831204\n",
      "总和60的方法数: 1\n"
     ]
    }
   ],
   "source": [
    "#3. Dice rolling\n",
    "#3.1\n",
    "import functools\n",
    "\n",
    "def find_number_of_ways_recursive(x, dice=10, faces=6):\n",
    "    @functools.lru_cache(None) # 装饰器，自动缓存结果\n",
    "    def solve(d, target):\n",
    "        # 基础情况1: 如果目标和为0，并且骰子也用完了，说明找到一种方法\n",
    "        if target == 0 and d == 0:\n",
    "            return 1\n",
    "        # 基础情况2: 如果目标和小于0或骰子用完了但和不为0，此路不通\n",
    "        if target < 0 or d == 0:\n",
    "            return 0\n",
    "        # 递归：当前方法数 = 遍历当前骰子的所有可能点数k，\n",
    "        # 然后累加“用剩下d-1个骰子凑成target-k”的方法数\n",
    "        count = 0\n",
    "        for k in range(1, faces + 1):\n",
    "            count += solve(d - 1, target - k)\n",
    "        return count\n",
    "    return solve(dice, x)\n",
    "    \n",
    "print(f\"总和10的方法数:\",find_number_of_ways_recursive(10))\n",
    "print(f\"总和15的方法数:\",find_number_of_ways_recursive(15))\n",
    "print(f\"总和30的方法数:\",find_number_of_ways_recursive(30))\n",
    "print(f\"总和45的方法数:\",find_number_of_ways_recursive(45))\n",
    "print(f\"总和60的方法数:\",find_number_of_ways_recursive(60))"
   ]
  },
  {
   "cell_type": "code",
   "execution_count": 6,
   "id": "66f1edf2-7f9b-4039-8bce-ee7548a277cb",
   "metadata": {},
   "outputs": [
    {
     "name": "stdout",
     "output_type": "stream",
     "text": [
      "\n",
      "3.2 计算所有可能总和的方式数:\n",
      "方式数列表长度: 51\n",
      "产生最大方式数的x值: 35\n",
      "最大方式数: 4395456\n"
     ]
    }
   ],
   "source": [
    "#3. Dice rolling\n",
    "#3.2\n",
    "def count_all_sums(): \n",
    "    Number_of_ways = []\n",
    "    max_ways = 0\n",
    "    max_x = 10\n",
    "    \n",
    "    # 计算从10到60的每个x值\n",
    "    for x in range(10, 61):\n",
    "        ways = find_number_of_ways_recursive(x)\n",
    "        Number_of_ways.append(ways)\n",
    "        \n",
    "        if ways > max_ways:\n",
    "            max_ways = ways\n",
    "            max_x = x\n",
    "    \n",
    "    return Number_of_ways, max_x, max_ways\n",
    "\n",
    "print(\"\\n3.2 计算所有可能总和的方式数:\")\n",
    "Number_of_ways, max_x, max_ways = count_all_sums()\n",
    "\n",
    "print(f\"方式数列表长度: {len(Number_of_ways)}\")  \n",
    "print(f\"产生最大方式数的x值: {max_x}\")\n",
    "print(f\"最大方式数: {max_ways}\")"
   ]
  },
  {
   "cell_type": "code",
   "execution_count": 23,
   "id": "c5c515d4-0ac4-47d2-b37c-cfa4f0b1a37d",
   "metadata": {},
   "outputs": [
    {
     "name": "stdout",
     "output_type": "stream",
     "text": [
      "[4, 5, 9, 5, 10]\n"
     ]
    }
   ],
   "source": [
    "#4. Dynamic programming\n",
    "#4.1\n",
    "import random\n",
    "\n",
    "# 4.1\n",
    "def Random_integer(N):\n",
    "    result = []\n",
    "    for i in range(N):\n",
    "        num = random.randint(0, 10)\n",
    "        result.append(num)\n",
    "    return result\n",
    "\n",
    "arr = Random_integer(5)\n",
    "print(arr)"
   ]
  },
  {
   "cell_type": "code",
   "execution_count": 32,
   "id": "d18b1a53-4bc1-475e-be3c-913613bca58f",
   "metadata": {},
   "outputs": [
    {
     "name": "stdout",
     "output_type": "stream",
     "text": [
      "数组 [1, 2, 3] 的结果: 14.0\n",
      "数组 [1, 2, 3, 4, 5] 的结果: 93.0\n"
     ]
    }
   ],
   "source": [
    "#4. Dynamic programming\n",
    "#4.2\n",
    "def Sum_averages(arr):\n",
    "    n = len(arr)\n",
    "    dp_sum = [0] * (n + 1)\n",
    "    dp_count = [0] * (n + 1)\n",
    "    \n",
    "    dp_count[0] = 1\n",
    "    \n",
    "    for num in arr:\n",
    "        for k in range(n, 0, -1):\n",
    "            dp_sum[k] = dp_sum[k] + dp_sum[k-1] + num * dp_count[k-1]\n",
    "            dp_count[k] = dp_count[k] + dp_count[k-1]\n",
    "    \n",
    "    total = 0\n",
    "    for k in range(1, n + 1):\n",
    "        total = total + dp_sum[k] / k\n",
    "    \n",
    "    return total\n",
    "\n",
    "test_arr_1 = [1, 2, 3]\n",
    "test_arr_2 = [1, 2, 3, 4 , 5]\n",
    "result_1 = Sum_averages(test_arr_1)\n",
    "result_2 = Sum_averages(test_arr_2)\n",
    "print(f\"数组 {test_arr_1} 的结果: {result_1}\")\n",
    "print(f\"数组 {test_arr_2} 的结果: {result_2}\")"
   ]
  },
  {
   "cell_type": "code",
   "execution_count": 34,
   "id": "ba603542-8971-4310-bf96-a14b7ddfc7ca",
   "metadata": {},
   "outputs": [
    {
     "data": {
      "image/png": "[encoded data removed]",
      "text/plain": [
       "<Figure size 1200x500 with 2 Axes>"
      ]
     },
     "metadata": {},
     "output_type": "display_data"
    }
   ],
   "source": [
    "#4. Dynamic programming\n",
    "#4.3\n",
    "\n",
    "import matplotlib.pyplot as plt\n",
    "\n",
    "# 调用函数，N从1到100\n",
    "Total_sum_averages = []\n",
    "for N in range(1, 101):\n",
    "    arr = Random_integer(N)\n",
    "    result = Sum_averages(arr)\n",
    "    Total_sum_averages.append(result)\n",
    "\n",
    "# 创建两个子图\n",
    "plt.figure(figsize=(12, 5))\n",
    "\n",
    "# 第一个图：普通坐标轴\n",
    "plt.subplot(1, 2, 1)\n",
    "plt.plot(range(1, 101), Total_sum_averages)\n",
    "plt.xlabel('N')\n",
    "plt.ylabel('Sum of Averages')\n",
    "plt.title('N from 1 to 100 (Normal Scale)')\n",
    "\n",
    "# 第二个图：对数坐标轴\n",
    "plt.subplot(1, 2, 2)\n",
    "plt.plot(range(1, 101), Total_sum_averages)\n",
    "plt.yscale('log')\n",
    "plt.xlabel('N')\n",
    "plt.ylabel('Sum of Averages (Log Scale)')\n",
    "plt.title('N from 1 to 100 (Log Scale)')\n",
    "\n",
    "plt.tight_layout()\n",
    "plt.show()\n"
   ]
  },
  {
   "cell_type": "code",
   "execution_count": 35,
   "id": "63e9f61c-77b3-4609-be84-8275351b469e",
   "metadata": {},
   "outputs": [
    {
     "name": "stdout",
     "output_type": "stream",
     "text": [
      "[1, 0, 1, 0]\n",
      "[0, 0, 1, 1]\n",
      "[0, 1, 0, 1]\n"
     ]
    }
   ],
   "source": [
    "#5. Path counting\n",
    "#5.1\n",
    "import random\n",
    "\n",
    "def create_matrix(N, M):\n",
    "    # 创建N行M列的矩阵，全部初始化为0\n",
    "    matrix = [[0 for _ in range(M)] for _ in range(N)]\n",
    "    \n",
    "    # 设置左上角和右下角为1\n",
    "    matrix[0][0] = 1\n",
    "    matrix[N-1][M-1] = 1\n",
    "    \n",
    "    # 随机填充其他位置为0或1\n",
    "    for i in range(N):\n",
    "        for j in range(M):\n",
    "            if (i == 0 and j == 0) or (i == N-1 and j == M-1):\n",
    "                continue  # 跳过左上角和右下角\n",
    "            matrix[i][j] = random.randint(0, 1)\n",
    "    \n",
    "    return matrix\n",
    "\n",
    "# 测试\n",
    "matrix = create_matrix(3, 4)\n",
    "for row in matrix:\n",
    "    print(row)"
   ]
  },
  {
   "cell_type": "code",
   "execution_count": 50,
   "id": "b8d8b4c9-333a-408f-af41-6305e1ac341e",
   "metadata": {},
   "outputs": [
    {
     "name": "stdout",
     "output_type": "stream",
     "text": [
      "测试矩阵:\n",
      "[1, 1, 0]\n",
      "[1, 1, 1]\n",
      "[1, 1, 1]\n",
      "路径数量: 5\n"
     ]
    }
   ],
   "source": [
    "#5. Path counting\n",
    "#5.2\n",
    "def Count_path(matrix):\n",
    "    N = len(matrix)\n",
    "    M = len(matrix[0])\n",
    "    \n",
    "    # 创建DP表格，大小与矩阵相同\n",
    "    dp = [[0 for _ in range(M)] for _ in range(N)]\n",
    "    \n",
    "    # 起点（左上角）\n",
    "    dp[0][0] = 1 if matrix[0][0] == 1 else 0\n",
    "    \n",
    "    # 填充DP表格\n",
    "    for i in range(N):\n",
    "        for j in range(M):\n",
    "            # 如果当前单元格是障碍物，路径数为0\n",
    "            if matrix[i][j] == 0:\n",
    "                dp[i][j] = 0\n",
    "                continue\n",
    "            \n",
    "            # 如果不是障碍物，计算从左边和上边来的路径数\n",
    "            if i > 0:\n",
    "                dp[i][j] += dp[i-1][j]  # 从上边来\n",
    "            if j > 0:\n",
    "                dp[i][j] += dp[i][j-1]  # 从左边来\n",
    "    \n",
    "    # 返回右下角的路径数\n",
    "    return dp[N-1][M-1]\n",
    "\n",
    "\n",
    "test_matrix = create_matrix(3,3)\n",
    "print(\"测试矩阵:\")\n",
    "for row in test_matrix:\n",
    "    print(row)\n",
    "print(f\"路径数量: {Count_path(test_matrix)}\")"
   ]
  },
  {
   "cell_type": "code",
   "execution_count": 58,
   "id": "a744b80d-9a00-40aa-a219-b81cb0471486",
   "metadata": {
    "scrolled": true
   },
   "outputs": [
    {
     "name": "stdout",
     "output_type": "stream",
     "text": [
      "1000次运行的平均路径数: 0.426\n"
     ]
    }
   ],
   "source": [
    "#5. Path counting\n",
    "#5.3\n",
    "def run_simulation():\n",
    "    N = 10\n",
    "    M = 8\n",
    "    total_paths = 0\n",
    "    runs = 1000\n",
    "    \n",
    "    for i in range(runs):\n",
    "        matrix = create_matrix(N, M)\n",
    "        paths = Count_path(matrix)\n",
    "        total_paths += paths\n",
    "    \n",
    "    mean_paths = total_paths / runs\n",
    "    return mean_paths\n",
    "\n",
    "mean_result = run_simulation()\n",
    "print(f\"1000次运行的平均路径数: {mean_result}\")"
   ]
  }
 ],
 "metadata": {
  "kernelspec": {
   "display_name": "Python 3 (ipykernel)",
   "language": "python",
   "name": "python3"
  },
  "language_info": {
   "codemirror_mode": {
    "name": "ipython",
    "version": 3
   },
   "file_extension": ".py",
   "mimetype": "text/x-python",
   "name": "python",
   "nbconvert_exporter": "python",
   "pygments_lexer": "ipython3",
   "version": "3.12.7"
  }
 },
 "nbformat": 4,
 "nbformat_minor": 5
}
